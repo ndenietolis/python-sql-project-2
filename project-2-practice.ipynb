{
 "cells": [
  {
   "cell_type": "code",
   "execution_count": 4,
   "metadata": {},
   "outputs": [],
   "source": [
    "import numpy as np\n",
    "import pandas as pd\n",
    "\n"
   ]
  },
  {
   "cell_type": "code",
   "execution_count": 55,
   "metadata": {},
   "outputs": [
    {
     "name": "stdout",
     "output_type": "stream",
     "text": [
      "     Unnamed: 0          Start Time             End Time  Trip Duration  \\\n",
      "63       402097 2017-03-26 11:40:10  2017-03-26 11:47:05            415   \n",
      "82       364649 2017-03-19 22:39:20  2017-03-19 23:16:01           2201   \n",
      "164      298198 2017-03-05 13:21:22  2017-03-05 13:33:15            713   \n",
      "274      298949 2017-03-05 14:45:06  2017-03-05 15:03:34           1108   \n",
      "319      296895 2017-03-05 10:20:47  2017-03-05 10:36:20            933   \n",
      "\n",
      "                      Start Station                  End Station   User Type  \\\n",
      "63             McClurg Ct & Erie St  Field Blvd & South Water St  Subscriber   \n",
      "82       Sheridan Rd & Montrose Ave   Clarendon Ave & Junior Ter  Subscriber   \n",
      "164        Kingsbury St & Kinzie St      Aberdeen St & Monroe St  Subscriber   \n",
      "274  Sheffield Ave & Wellington Ave      Wood St & Milwaukee Ave  Subscriber   \n",
      "319    Marshfield Ave & Cortland St          Troy St & North Ave  Subscriber   \n",
      "\n",
      "     Gender  Birth Year  month  day_of_week  \n",
      "63     Male      1964.0      3            6  \n",
      "82   Female      1977.0      3            6  \n",
      "164  Female      1988.0      3            6  \n",
      "274  Female      1982.0      3            6  \n",
      "319    Male      1982.0      3            6  \n"
     ]
    }
   ],
   "source": [
    "import pandas as pd\n",
    "\n",
    "CITY_DATA = { 'chicago': 'chicago.csv',\n",
    "              'new york city': 'new_york_city.csv',\n",
    "              'washington': 'washington.csv' }\n",
    "\n",
    "def load_data(city, month='all', day='all'):\n",
    "    \"\"\"\n",
    "    Loads data for the specified city and filters by month and day if applicable.\n",
    "\n",
    "    Args:\n",
    "        (str) city - name of the city to analyze\n",
    "        (str) month - name of the month to filter by, or \"all\" to apply no month filter\n",
    "        (str) day - name of the day of week to filter by, or \"all\" to apply no day filter\n",
    "    Returns:\n",
    "        df - pandas DataFrame containing city data filtered by month and day\n",
    "    \"\"\"\n",
    "    \n",
    "    # load data file into a dataframe\n",
    "    df = pd.read_csv(CITY_DATA[city])\n",
    "\n",
    "    # convert the Start Time column to datetime\n",
    "    df['Start Time'] = pd.to_datetime(df['Start Time'])\n",
    "\n",
    "    # extract month and day of week from Start Time to create new columns\n",
    "    df['month'] = df['Start Time'].dt.month\n",
    "    df['day_of_week'] = df['Start Time'].dt.dayofweek\n",
    "    \n",
    "    # filter by month if applicable\n",
    "    if month != 'all':\n",
    "        # use the index of the months list to get the corresponding int\n",
    "        months = ['january', 'february', 'march', 'april', 'may', 'june']\n",
    "        month = months.index(month) + 1\n",
    "    \n",
    "        # filter by month to create the new dataframe\n",
    "        df = df[df['month'] == month]\n",
    "        \n",
    "\n",
    "    # # filter by day of week if applicable\n",
    "    if day != 'all':\n",
    "        days = ['sunday', 'monday', 'tuesday', 'wednesday', 'thursday', 'friday', 'saturday']\n",
    "        day = days.index(day) + 1\n",
    "        # filter by day of week to create the new dataframe\n",
    "        \n",
    "        df = df[df['day_of_week'] == day]\n",
    "        \n",
    "    \n",
    "    return df\n",
    "    \n",
    "df = load_data('chicago', 'march', 'friday')\n",
    "print(df.head())"
   ]
  },
  {
   "cell_type": "code",
   "execution_count": 52,
   "metadata": {},
   "outputs": [
    {
     "name": "stdout",
     "output_type": "stream",
     "text": [
      "5\n"
     ]
    }
   ],
   "source": [
    "days = ['sunday', 'monday', 'tuesday', 'wednesday', 'thursday', 'friday', 'saturday']\n",
    "print(days.index('friday'))\n"
   ]
  }
 ],
 "metadata": {
  "interpreter": {
   "hash": "366e7b2b8438dc641c25f3da28eaed90eec25ccf2b5eb1d020570a4ecc640efc"
  },
  "kernelspec": {
   "display_name": "Python 3.9.7 64-bit (conda)",
   "language": "python",
   "name": "python3"
  },
  "language_info": {
   "name": "python",
   "version": "3.9.7"
  },
  "orig_nbformat": 4
 },
 "nbformat": 4,
 "nbformat_minor": 2
}
